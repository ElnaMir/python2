{
 "cells": [
  {
   "cell_type": "code",
   "execution_count": 1,
   "id": "715d08d8",
   "metadata": {},
   "outputs": [
    {
     "name": "stdout",
     "output_type": "stream",
     "text": [
      "['item1', 'item2', 'item3']\n"
     ]
    }
   ],
   "source": [
    "a_list = [\"item1\", \"item2\", \"item3\"]\n",
    "print(a_list)"
   ]
  },
  {
   "cell_type": "code",
   "execution_count": 2,
   "id": "c7d20920",
   "metadata": {},
   "outputs": [
    {
     "name": "stdout",
     "output_type": "stream",
     "text": [
      "['0', '0', '0']\n",
      "['0', 1, '0']\n"
     ]
    }
   ],
   "source": [
    "b_list =['0', '0', '0']\n",
    "print(b_list)\n",
    "\n",
    "b_list[1] =1\n",
    "print(b_list)"
   ]
  },
  {
   "cell_type": "code",
   "execution_count": 6,
   "id": "972d6327",
   "metadata": {},
   "outputs": [
    {
     "name": "stdout",
     "output_type": "stream",
     "text": [
      "item1\n",
      "item2\n",
      "item3\n"
     ]
    }
   ],
   "source": [
    "c_list =['item1', 'item2', 'item3']\n",
    "\n",
    "for i in c_list:\n",
    "  print(i)"
   ]
  },
  {
   "cell_type": "code",
   "execution_count": 8,
   "id": "6b1b58d3",
   "metadata": {},
   "outputs": [
    {
     "name": "stdout",
     "output_type": "stream",
     "text": [
      "item1\n",
      "item2\n",
      "item3\n"
     ]
    }
   ],
   "source": [
    "d_list =[\"item1\", \"item2\", \"item3\"]\n",
    "\n",
    "for i in range(len(d_list)):\n",
    "  print(d_list[i])\n"
   ]
  },
  {
   "cell_type": "code",
   "execution_count": 17,
   "id": "fbe7d8cc",
   "metadata": {},
   "outputs": [
    {
     "name": "stdout",
     "output_type": "stream",
     "text": [
      "798\n"
     ]
    }
   ],
   "source": [
    "e_list =[32,55,710,1]\n",
    "\n",
    "total = 0\n",
    "total = sum(e_list)\n",
    "print(total)"
   ]
  },
  {
   "cell_type": "code",
   "execution_count": 21,
   "id": "177e47e7",
   "metadata": {},
   "outputs": [
    {
     "name": "stdout",
     "output_type": "stream",
     "text": [
      "798\n"
     ]
    }
   ],
   "source": [
    "g_list =[32,55,710,1]\n",
    "\n",
    "total1 =0\n",
    "for i in g_list:\n",
    "  total1 += i\n",
    "    \n",
    "print(total1)"
   ]
  },
  {
   "cell_type": "code",
   "execution_count": 30,
   "id": "42648382",
   "metadata": {},
   "outputs": [
    {
     "name": "stdout",
     "output_type": "stream",
     "text": [
      "4\n"
     ]
    }
   ],
   "source": [
    "s_list = [1,3,4,5,0,2]\n",
    "\n",
    "            \n",
    "        \n",
    "def second_largest (s_list):\n",
    "    s_list.sort()\n",
    "    return s_list[-2]\n",
    "\n",
    "print(second_largest(s_list))"
   ]
  },
  {
   "cell_type": "code",
   "execution_count": 31,
   "id": "ddd913e3",
   "metadata": {},
   "outputs": [
    {
     "name": "stdout",
     "output_type": "stream",
     "text": [
      "ABC\n"
     ]
    }
   ],
   "source": [
    "a_string =\"ABC\"\n",
    "\n",
    "print(a_string)"
   ]
  },
  {
   "cell_type": "code",
   "execution_count": 32,
   "id": "d6695e36",
   "metadata": {},
   "outputs": [
    {
     "name": "stdout",
     "output_type": "stream",
     "text": [
      "E\n"
     ]
    }
   ],
   "source": [
    "b_string =\"DEF\"\n",
    "\n",
    "print(b_string[1])"
   ]
  },
  {
   "cell_type": "code",
   "execution_count": 35,
   "id": "00021350",
   "metadata": {},
   "outputs": [
    {
     "name": "stdout",
     "output_type": "stream",
     "text": [
      "G\n",
      "H\n",
      "I\n"
     ]
    }
   ],
   "source": [
    "c_string =\"GHI\"\n",
    "\n",
    "for i in c_string:\n",
    "  print(i)"
   ]
  },
  {
   "cell_type": "code",
   "execution_count": 58,
   "id": "4bcecd97",
   "metadata": {},
   "outputs": [
    {
     "name": "stdout",
     "output_type": "stream",
     "text": [
      "P\n",
      "Q\n",
      "R\n"
     ]
    }
   ],
   "source": [
    "d_string =\"PQR\"\n",
    "\n",
    "for i in range(len(d_string)):\n",
    "  print(d_string[i])"
   ]
  },
  {
   "cell_type": "code",
   "execution_count": 69,
   "id": "005ffe6c",
   "metadata": {},
   "outputs": [
    {
     "name": "stdout",
     "output_type": "stream",
     "text": [
      "True\n"
     ]
    }
   ],
   "source": [
    "str1 =\"ABC\"\n",
    "str2 =\"CBA\"\n",
    "\n",
    "\n",
    "def reverse_string(str1, str2):\n",
    "    if str1 == str2[::-1]: \n",
    "        return True\n",
    "    else: \n",
    "        return False\n",
    "    \n",
    "print(reverse_string(str1, str2))"
   ]
  },
  {
   "cell_type": "code",
   "execution_count": null,
   "id": "48a0e226",
   "metadata": {},
   "outputs": [],
   "source": []
  },
  {
   "cell_type": "raw",
   "id": "6a80e2a4",
   "metadata": {},
   "source": []
  },
  {
   "cell_type": "code",
   "execution_count": null,
   "id": "fe78de93",
   "metadata": {},
   "outputs": [],
   "source": []
  },
  {
   "cell_type": "code",
   "execution_count": null,
   "id": "845c61fc",
   "metadata": {},
   "outputs": [],
   "source": []
  }
 ],
 "metadata": {
  "kernelspec": {
   "display_name": "Python 3 (ipykernel)",
   "language": "python",
   "name": "python3"
  },
  "language_info": {
   "codemirror_mode": {
    "name": "ipython",
    "version": 3
   },
   "file_extension": ".py",
   "mimetype": "text/x-python",
   "name": "python",
   "nbconvert_exporter": "python",
   "pygments_lexer": "ipython3",
   "version": "3.9.7"
  }
 },
 "nbformat": 4,
 "nbformat_minor": 5
}
