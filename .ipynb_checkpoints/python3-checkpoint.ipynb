{
 "cells": [
  {
   "cell_type": "code",
   "execution_count": 1,
   "id": "715d08d8",
   "metadata": {},
   "outputs": [
    {
     "name": "stdout",
     "output_type": "stream",
     "text": [
      "['item1', 'item2', 'item3']\n"
     ]
    }
   ],
   "source": [
    "a_list = [\"item1\", \"item2\", \"item3\"]\n",
    "print(a_list)"
   ]
  },
  {
   "cell_type": "code",
   "execution_count": 2,
   "id": "c7d20920",
   "metadata": {},
   "outputs": [
    {
     "name": "stdout",
     "output_type": "stream",
     "text": [
      "['0', '0', '0']\n",
      "['0', 1, '0']\n"
     ]
    }
   ],
   "source": [
    "b_list =['0', '0', '0']\n",
    "print(b_list)\n",
    "\n",
    "b_list[1] =1\n",
    "print(b_list)"
   ]
  },
  {
   "cell_type": "code",
   "execution_count": 6,
   "id": "a3ca25bd",
   "metadata": {},
   "outputs": [
    {
     "name": "stdout",
     "output_type": "stream",
     "text": [
      "item1\n",
      "item2\n",
      "item3\n"
     ]
    }
   ],
   "source": [
    "c_list =['item1', 'item2', 'item3']\n",
    "\n",
    "for i in c_list:\n",
    "  print(i)"
   ]
  },
  {
   "cell_type": "code",
   "execution_count": 8,
   "id": "e7406043",
   "metadata": {},
   "outputs": [
    {
     "name": "stdout",
     "output_type": "stream",
     "text": [
      "item1\n",
      "item2\n",
      "item3\n"
     ]
    }
   ],
   "source": [
    "d_list =[\"item1\", \"item2\", \"item3\"]\n",
    "\n",
    "for i in range(len(d_list)):\n",
    "  print(d_list[i])\n"
   ]
  },
  {
   "cell_type": "code",
   "execution_count": 17,
   "id": "9a53ee51",
   "metadata": {},
   "outputs": [
    {
     "name": "stdout",
     "output_type": "stream",
     "text": [
      "798\n"
     ]
    }
   ],
   "source": [
    "e_list =[32,55,710,1]\n",
    "\n",
    "total = 0\n",
    "total = sum(e_list)\n",
    "print(total)"
   ]
  },
  {
   "cell_type": "code",
   "execution_count": 21,
   "id": "323228cc",
   "metadata": {},
   "outputs": [
    {
     "name": "stdout",
     "output_type": "stream",
     "text": [
      "798\n"
     ]
    }
   ],
   "source": [
    "g_list =[32,55,710,1]\n",
    "\n",
    "total1 =0\n",
    "for i in g_list:\n",
    "  total1 += i\n",
    "    \n",
    "print(total1)"
   ]
  },
  {
   "cell_type": "code",
   "execution_count": 30,
   "id": "3e91f2ba",
   "metadata": {},
   "outputs": [
    {
     "name": "stdout",
     "output_type": "stream",
     "text": [
      "4\n"
     ]
    }
   ],
   "source": [
    "s_list = [1,3,4,5,0,2]\n",
    "\n",
    "            \n",
    "        \n",
    "def second_largest (s_list):\n",
    "    s_list.sort()\n",
    "    return s_list[-2]\n",
    "\n",
    "print(second_largest(s_list))"
   ]
  },
  {
   "cell_type": "code",
   "execution_count": 31,
   "id": "3a68ba00",
   "metadata": {},
   "outputs": [
    {
     "name": "stdout",
     "output_type": "stream",
     "text": [
      "ABC\n"
     ]
    }
   ],
   "source": [
    "a_string =\"ABC\"\n",
    "\n",
    "print(a_string)"
   ]
  },
  {
   "cell_type": "code",
   "execution_count": 32,
   "id": "a75bb058",
   "metadata": {},
   "outputs": [
    {
     "name": "stdout",
     "output_type": "stream",
     "text": [
      "E\n"
     ]
    }
   ],
   "source": [
    "b_string =\"DEF\"\n",
    "\n",
    "print(b_string[1])"
   ]
  },
  {
   "cell_type": "code",
   "execution_count": 35,
   "id": "14c2cb56",
   "metadata": {},
   "outputs": [
    {
     "name": "stdout",
     "output_type": "stream",
     "text": [
      "G\n",
      "H\n",
      "I\n"
     ]
    }
   ],
   "source": [
    "c_string =\"GHI\"\n",
    "\n",
    "for i in c_string:\n",
    "  print(i)"
   ]
  },
  {
   "cell_type": "code",
   "execution_count": 58,
   "id": "22420059",
   "metadata": {},
   "outputs": [
    {
     "name": "stdout",
     "output_type": "stream",
     "text": [
      "P\n",
      "Q\n",
      "R\n"
     ]
    }
   ],
   "source": [
    "d_string =\"PQR\"\n",
    "\n",
    "for i in range(len(d_string)):\n",
    "  print(d_string[i])"
   ]
  },
  {
   "cell_type": "code",
   "execution_count": 69,
   "id": "c46c74ba",
   "metadata": {},
   "outputs": [
    {
     "name": "stdout",
     "output_type": "stream",
     "text": [
      "True\n"
     ]
    }
   ],
   "source": [
    "str1 =\"ABC\"\n",
    "str2 =\"CBA\"\n",
    "\n",
    "\n",
    "def reverse_string(str1, str2):\n",
    "    if str1 == str2[::-1]: \n",
    "        return True\n",
    "    else: \n",
    "        return False\n",
    "    \n",
    "print(reverse_string(str1, str2))"
   ]
  },
  {
   "cell_type": "code",
   "execution_count": 84,
   "id": "782ee3fd",
   "metadata": {},
   "outputs": [
    {
     "name": "stdout",
     "output_type": "stream",
     "text": [
      "True\n"
     ]
    }
   ],
   "source": [
    "no1 =\"123\"  \n",
    "no2 =\"3453\"\n",
    "\n",
    "\n",
    "def largest_number(no1, no2):\n",
    "    if len(no1) > len(no2):\n",
    "        return True\n",
    "    elif len(no1) < len(no2):\n",
    "        return False\n",
    "    \n",
    "    \n",
    "    for i in range(len(no1)):\n",
    "        if no1[i] == no2[i]:\n",
    "            continue\n",
    "        elif no1[i]> no2[i]:\n",
    "            return True\n",
    "        else:\n",
    "            return False\n",
    "        \n",
    "    \n",
    "print(largest_number(\"12367\", \"3425\"))"
   ]
  },
  {
   "cell_type": "markdown",
   "id": "934d53b7",
   "metadata": {},
   "source": [
    "### "
   ]
  },
  {
   "cell_type": "code",
   "execution_count": 86,
   "id": "3b597227",
   "metadata": {},
   "outputs": [
    {
     "name": "stdout",
     "output_type": "stream",
     "text": [
      "[[1, 2, 3], [5, 6, 7]]\n"
     ]
    }
   ],
   "source": [
    "b_2d =[[1,2,3], [5,6,7]]\n",
    "\n",
    "print(b_2d)"
   ]
  },
  {
   "cell_type": "code",
   "execution_count": 88,
   "id": "f2a546a6",
   "metadata": {},
   "outputs": [
    {
     "name": "stdout",
     "output_type": "stream",
     "text": [
      "[[1, 2, 3], [4, 99, 6]]\n"
     ]
    }
   ],
   "source": [
    "c_2d = [[1,2,3], [4,5,6]]\n",
    "\n",
    "c_2d [1][1] = 99\n",
    "\n",
    "print(c_2d)"
   ]
  },
  {
   "cell_type": "code",
   "execution_count": 90,
   "id": "2f0f5548",
   "metadata": {},
   "outputs": [
    {
     "name": "stdout",
     "output_type": "stream",
     "text": [
      "a\n",
      "b\n",
      "c\n",
      "x\n",
      "y\n",
      "z\n"
     ]
    }
   ],
   "source": [
    "d_2d =[['a', 'b', 'c'], ['x', 'y', 'z']]\n",
    "\n",
    "for row in d_2d:\n",
    "    for i in row:\n",
    "        print(i)\n",
    "    "
   ]
  },
  {
   "cell_type": "code",
   "execution_count": 91,
   "id": "c068eb10",
   "metadata": {},
   "outputs": [
    {
     "name": "stdout",
     "output_type": "stream",
     "text": [
      "a\n",
      "b\n",
      "c\n",
      "x\n",
      "y\n",
      "z\n"
     ]
    }
   ],
   "source": [
    "for i in range(len(d_2d)):\n",
    "    for j in range(len(d_2d[i])):\n",
    "        print(d_2d[i][j])\n",
    "    "
   ]
  },
  {
   "cell_type": "code",
   "execution_count": 94,
   "id": "7991fd1a",
   "metadata": {},
   "outputs": [
    {
     "name": "stdout",
     "output_type": "stream",
     "text": [
      "15\n"
     ]
    }
   ],
   "source": [
    "g_2d =[[1,2,3],[4,5,6],[7,8,9]]\n",
    "\n",
    "def add_up (g_2d):\n",
    "    total =0\n",
    "    for i in range(len(g_2d)):\n",
    "        total += g_2d[i][i]\n",
    "    return total\n",
    "    \n",
    "print(add_up(g_2d))\n",
    "\n",
    "\n",
    "        \n",
    "    "
   ]
  },
  {
   "cell_type": "code",
   "execution_count": null,
   "id": "9dc018b2",
   "metadata": {},
   "outputs": [],
   "source": []
  }
 ],
 "metadata": {
  "kernelspec": {
   "display_name": "Python 3 (ipykernel)",
   "language": "python",
   "name": "python3"
  },
  "language_info": {
   "codemirror_mode": {
    "name": "ipython",
    "version": 3
   },
   "file_extension": ".py",
   "mimetype": "text/x-python",
   "name": "python",
   "nbconvert_exporter": "python",
   "pygments_lexer": "ipython3",
   "version": "3.9.7"
  }
 },
 "nbformat": 4,
 "nbformat_minor": 5
}
