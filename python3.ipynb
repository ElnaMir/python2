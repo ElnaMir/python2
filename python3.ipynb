{
 "cells": [
  {
   "cell_type": "code",
   "execution_count": 1,
   "id": "715d08d8",
   "metadata": {},
   "outputs": [
    {
     "name": "stdout",
     "output_type": "stream",
     "text": [
      "['item1', 'item2', 'item3']\n"
     ]
    }
   ],
   "source": [
    "a_list = [\"item1\", \"item2\", \"item3\"]\n",
    "print(a_list)"
   ]
  },
  {
   "cell_type": "code",
   "execution_count": 2,
   "id": "c7d20920",
   "metadata": {},
   "outputs": [
    {
     "name": "stdout",
     "output_type": "stream",
     "text": [
      "['0', '0', '0']\n",
      "['0', 1, '0']\n"
     ]
    }
   ],
   "source": [
    "b_list =['0', '0', '0']\n",
    "print(b_list)\n",
    "\n",
    "b_list[1] =1\n",
    "print(b_list)"
   ]
  },
  {
   "cell_type": "code",
   "execution_count": 6,
   "id": "b633ce8c",
   "metadata": {},
   "outputs": [
    {
     "name": "stdout",
     "output_type": "stream",
     "text": [
      "item1\n",
      "item2\n",
      "item3\n"
     ]
    }
   ],
   "source": [
    "c_list =['item1', 'item2', 'item3']\n",
    "\n",
    "for i in c_list:\n",
    "  print(i)"
   ]
  },
  {
   "cell_type": "code",
   "execution_count": 8,
   "id": "31809135",
   "metadata": {},
   "outputs": [
    {
     "name": "stdout",
     "output_type": "stream",
     "text": [
      "item1\n",
      "item2\n",
      "item3\n"
     ]
    }
   ],
   "source": [
    "d_list =[\"item1\", \"item2\", \"item3\"]\n",
    "\n",
    "for i in range(len(d_list)):\n",
    "  print(d_list[i])\n"
   ]
  },
  {
   "cell_type": "code",
   "execution_count": 17,
   "id": "d445c18c",
   "metadata": {},
   "outputs": [
    {
     "name": "stdout",
     "output_type": "stream",
     "text": [
      "798\n"
     ]
    }
   ],
   "source": [
    "e_list =[32,55,710,1]\n",
    "\n",
    "total = 0\n",
    "total = sum(e_list)\n",
    "print(total)"
   ]
  },
  {
   "cell_type": "code",
   "execution_count": 21,
   "id": "8ed8fb91",
   "metadata": {},
   "outputs": [
    {
     "name": "stdout",
     "output_type": "stream",
     "text": [
      "798\n"
     ]
    }
   ],
   "source": [
    "g_list =[32,55,710,1]\n",
    "\n",
    "total1 =0\n",
    "for i in g_list:\n",
    "  total1 += i\n",
    "    \n",
    "print(total1)"
   ]
  },
  {
   "cell_type": "code",
   "execution_count": 30,
   "id": "21aa5be6",
   "metadata": {},
   "outputs": [
    {
     "name": "stdout",
     "output_type": "stream",
     "text": [
      "4\n"
     ]
    }
   ],
   "source": [
    "s_list = [1,3,4,5,0,2]\n",
    "\n",
    "            \n",
    "        \n",
    "def second_largest (s_list):\n",
    "    s_list.sort()\n",
    "    return s_list[-2]\n",
    "\n",
    "print(second_largest(s_list))"
   ]
  },
  {
   "cell_type": "code",
   "execution_count": null,
   "id": "33809581",
   "metadata": {},
   "outputs": [],
   "source": []
  },
  {
   "cell_type": "code",
   "execution_count": null,
   "id": "888fba98",
   "metadata": {},
   "outputs": [],
   "source": []
  }
 ],
 "metadata": {
  "kernelspec": {
   "display_name": "Python 3 (ipykernel)",
   "language": "python",
   "name": "python3"
  },
  "language_info": {
   "codemirror_mode": {
    "name": "ipython",
    "version": 3
   },
   "file_extension": ".py",
   "mimetype": "text/x-python",
   "name": "python",
   "nbconvert_exporter": "python",
   "pygments_lexer": "ipython3",
   "version": "3.9.7"
  }
 },
 "nbformat": 4,
 "nbformat_minor": 5
}
